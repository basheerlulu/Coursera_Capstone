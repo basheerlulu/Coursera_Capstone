{
    "cells": [
        {
            "cell_type": "code",
            "execution_count": 2,
            "metadata": {},
            "outputs": [],
            "source": "import pandas as pd\nimport numpy as np\nimport requests\nfrom bs4 import BeautifulSoup"
        },
        {
            "cell_type": "code",
            "execution_count": 3,
            "metadata": {},
            "outputs": [
                {
                    "name": "stdout",
                    "output_type": "stream",
                    "text": "[['M3A', 'North York', 'Parkwoods'], ['M4A', 'North York', 'Victoria Village'], ['M5A', 'Downtown Toronto', 'Regent Park, Harbourfront'], ['M6A', 'North York', 'Lawrence Manor, Lawrence Heights'], ['M7A', 'Downtown Toronto', \"Queen's Park, Ontario Provincial Government\"], ['M9A', 'Etobicoke', 'Islington Avenue, Humber Valley Village'], ['M1B', 'Scarborough', 'Malvern, Rouge'], ['M3B', 'North York', 'Don Mills'], ['M4B', 'East York', 'Parkview Hill, Woodbine Gardens'], ['M5B', 'Downtown Toronto', 'Garden District, Ryerson'], ['M6B', 'North York', 'Glencairn'], ['M9B', 'Etobicoke', 'West Deane Park, Princess Gardens, Martin Grove, Islington, Cloverdale'], ['M1C', 'Scarborough', 'Rouge Hill, Port Union, Highland Creek'], ['M3C', 'North York', 'Don Mills'], ['M4C', 'East York', 'Woodbine Heights'], ['M5C', 'Downtown Toronto', 'St. James Town'], ['M6C', 'York', 'Humewood-Cedarvale'], ['M9C', 'Etobicoke', 'Eringate, Bloordale Gardens, Old Burnhamthorpe, Markland Wood'], ['M1E', 'Scarborough', 'Guildwood, Morningside, West Hill'], ['M4E', 'East Toronto', 'The Beaches'], ['M5E', 'Downtown Toronto', 'Berczy Park'], ['M6E', 'York', 'Caledonia-Fairbanks'], ['M1G', 'Scarborough', 'Woburn'], ['M4G', 'East York', 'Leaside'], ['M5G', 'Downtown Toronto', 'Central Bay Street'], ['M6G', 'Downtown Toronto', 'Christie'], ['M1H', 'Scarborough', 'Cedarbrae'], ['M2H', 'North York', 'Hillcrest Village'], ['M3H', 'North York', 'Bathurst Manor, Wilson Heights, Downsview North'], ['M4H', 'East York', 'Thorncliffe Park'], ['M5H', 'Downtown Toronto', 'Richmond, Adelaide, King'], ['M6H', 'West Toronto', 'Dufferin, Dovercourt Village'], ['M1J', 'Scarborough', 'Scarborough Village'], ['M2J', 'North York', 'Fairview, Henry Farm, Oriole'], ['M3J', 'North York', 'Northwood Park, York University'], ['M4J', 'East York', 'East Toronto, Broadview North (Old East York)'], ['M5J', 'Downtown Toronto', 'Harbourfront East, Union Station, Toronto Islands'], ['M6J', 'West Toronto', 'Little Portugal, Trinity'], ['M1K', 'Scarborough', 'Kennedy Park, Ionview, East Birchmount Park'], ['M2K', 'North York', 'Bayview Village'], ['M3K', 'North York', 'Downsview'], ['M4K', 'East Toronto', 'The Danforth West, Riverdale'], ['M5K', 'Downtown Toronto', 'Toronto Dominion Centre, Design Exchange'], ['M6K', 'West Toronto', 'Brockton, Parkdale Village, Exhibition Place'], ['M1L', 'Scarborough', 'Golden Mile, Clairlea, Oakridge'], ['M2L', 'North York', 'York Mills, Silver Hills'], ['M3L', 'North York', 'Downsview'], ['M4L', 'East Toronto', 'India Bazaar, The Beaches West'], ['M5L', 'Downtown Toronto', 'Commerce Court, Victoria Hotel'], ['M6L', 'North York', 'North Park, Maple Leaf Park, Upwood Park'], ['M9L', 'North York', 'Humber Summit'], ['M1M', 'Scarborough', 'Cliffside, Cliffcrest, Scarborough Village West'], ['M2M', 'North York', 'Willowdale, Newtonbrook'], ['M3M', 'North York', 'Downsview'], ['M4M', 'East Toronto', 'Studio District'], ['M5M', 'North York', 'Bedford Park, Lawrence Manor East'], ['M6M', 'York', 'Del Ray, Mount Dennis, Keelsdale and Silverthorn'], ['M9M', 'North York', 'Humberlea, Emery'], ['M1N', 'Scarborough', 'Birch Cliff, Cliffside West'], ['M2N', 'North York', 'Willowdale, Willowdale East'], ['M3N', 'North York', 'Downsview'], ['M4N', 'Central Toronto', 'Lawrence Park'], ['M5N', 'Central Toronto', 'Roselawn'], ['M6N', 'York', 'Runnymede, The Junction North'], ['M9N', 'York', 'Weston'], ['M1P', 'Scarborough', 'Dorset Park, Wexford Heights, Scarborough Town Centre'], ['M2P', 'North York', 'York Mills West'], ['M4P', 'Central Toronto', 'Davisville North'], ['M5P', 'Central Toronto', 'Forest Hill North & West, Forest Hill Road Park'], ['M6P', 'West Toronto', 'High Park, The Junction South'], ['M9P', 'Etobicoke', 'Westmount'], ['M1R', 'Scarborough', 'Wexford, Maryvale'], ['M2R', 'North York', 'Willowdale, Willowdale West'], ['M4R', 'Central Toronto', 'North Toronto West,  Lawrence Park'], ['M5R', 'Central Toronto', 'The Annex, North Midtown, Yorkville'], ['M6R', 'West Toronto', 'Parkdale, Roncesvalles'], ['M7R', 'Mississauga', 'Canada Post Gateway Processing Centre'], ['M9R', 'Etobicoke', 'Kingsview Village, St. Phillips, Martin Grove Gardens, Richview Gardens'], ['M1S', 'Scarborough', 'Agincourt'], ['M4S', 'Central Toronto', 'Davisville'], ['M5S', 'Downtown Toronto', 'University of Toronto, Harbord'], ['M6S', 'West Toronto', 'Runnymede, Swansea'], ['M1T', 'Scarborough', \"Clarks Corners, Tam O'Shanter, Sullivan\"], ['M4T', 'Central Toronto', 'Moore Park, Summerhill East'], ['M5T', 'Downtown Toronto', 'Kensington Market, Chinatown, Grange Park'], ['M1V', 'Scarborough', \"Milliken, Agincourt North, Steeles East, L'Amoreaux East\"], ['M4V', 'Central Toronto', 'Summerhill West, Rathnelly, South Hill, Forest Hill SE, Deer Park'], ['M5V', 'Downtown Toronto', 'CN Tower, King and Spadina, Railway Lands, Harbourfront West, Bathurst Quay, South Niagara, Island airport'], ['M8V', 'Etobicoke', 'New Toronto, Mimico South, Humber Bay Shores'], ['M9V', 'Etobicoke', 'South Steeles, Silverstone, Humbergate, Jamestown, Mount Olive, Beaumond Heights, Thistletown, Albion Gardens'], ['M1W', 'Scarborough', \"Steeles West, L'Amoreaux West\"], ['M4W', 'Downtown Toronto', 'Rosedale'], ['M5W', 'Downtown Toronto', 'Stn A PO Boxes'], ['M8W', 'Etobicoke', 'Alderwood, Long Branch'], ['M9W', 'Etobicoke', 'Northwest, West Humber - Clairville'], ['M1X', 'Scarborough', 'Upper Rouge'], ['M4X', 'Downtown Toronto', 'St. James Town, Cabbagetown'], ['M5X', 'Downtown Toronto', 'First Canadian Place, Underground city'], ['M8X', 'Etobicoke', 'The Kingsway, Montgomery Road, Old Mill North'], ['M4Y', 'Downtown Toronto', 'Church and Wellesley'], ['M7Y', 'East Toronto', 'Business reply mail Processing Centre, South Central Letter Processing Plant Toronto'], ['M8Y', 'Etobicoke', \"Old Mill South, King's Mill Park, Sunnylea, Humber Bay, Mimico NE, The Queensway East, Royal York South East, Kingsway Park South East\"], ['M8Z', 'Etobicoke', 'Mimico NW, The Queensway West, South of Bloor, Kingsway Park South West, Royal York South West']]\n"
                },
                {
                    "data": {
                        "text/html": "<div>\n<style scoped>\n    .dataframe tbody tr th:only-of-type {\n        vertical-align: middle;\n    }\n\n    .dataframe tbody tr th {\n        vertical-align: top;\n    }\n\n    .dataframe thead th {\n        text-align: right;\n    }\n</style>\n<table border=\"1\" class=\"dataframe\">\n  <thead>\n    <tr style=\"text-align: right;\">\n      <th></th>\n      <th>PostalCode</th>\n      <th>Borough</th>\n      <th>Neighborhood</th>\n    </tr>\n  </thead>\n  <tbody>\n    <tr>\n      <th>0</th>\n      <td>M1B</td>\n      <td>Scarborough</td>\n      <td>Malvern, Rouge</td>\n    </tr>\n    <tr>\n      <th>1</th>\n      <td>M1C</td>\n      <td>Scarborough</td>\n      <td>Rouge Hill, Port Union, Highland Creek</td>\n    </tr>\n    <tr>\n      <th>2</th>\n      <td>M1E</td>\n      <td>Scarborough</td>\n      <td>Guildwood, Morningside, West Hill</td>\n    </tr>\n    <tr>\n      <th>3</th>\n      <td>M1G</td>\n      <td>Scarborough</td>\n      <td>Woburn</td>\n    </tr>\n    <tr>\n      <th>4</th>\n      <td>M1H</td>\n      <td>Scarborough</td>\n      <td>Cedarbrae</td>\n    </tr>\n  </tbody>\n</table>\n</div>",
                        "text/plain": "  PostalCode      Borough                            Neighborhood\n0        M1B  Scarborough                          Malvern, Rouge\n1        M1C  Scarborough  Rouge Hill, Port Union, Highland Creek\n2        M1E  Scarborough       Guildwood, Morningside, West Hill\n3        M1G  Scarborough                                  Woburn\n4        M1H  Scarborough                               Cedarbrae"
                    },
                    "execution_count": 3,
                    "metadata": {},
                    "output_type": "execute_result"
                }
            ],
            "source": "wiki = 'https://en.wikipedia.org/wiki/List_of_postal_codes_of_Canada:_M'\nwiki_page = requests.get(wiki)\n\nsoup = BeautifulSoup(wiki_page.content, 'html.parser')\ntable = soup.find('table')\n\ntrs = table.find_all('tr')\nrows = []\nfor tr in trs:\n    i = tr.find_all('td')\n    if i:\n        rows.append(i)\n        \nlst = []\nfor row in rows:\n    postalcode = row[0].text.rstrip()\n    borough = row[1].text.rstrip()\n    neighborhood = row[2].text.rstrip()\n    if borough != 'Not assigned':\n        if neighborhood == 'Not assigned':\n            neighborhood = borough\n        lst.append([postalcode, borough, neighborhood])\n\nprint(lst)\ncols = ['PostalCode', 'Borough', 'Neighborhood']\ndf = pd.DataFrame(lst, columns=cols)\ndf.head()\ndf = df.groupby('PostalCode').agg(\n    {\n        'Borough':'first', \n        'Neighborhood': ', '.join,}\n    ).reset_index()\ndf.head()"
        },
        {
            "cell_type": "code",
            "execution_count": 4,
            "metadata": {},
            "outputs": [
                {
                    "name": "stdout",
                    "output_type": "stream",
                    "text": "103\n"
                },
                {
                    "data": {
                        "text/plain": "(103, 3)"
                    },
                    "execution_count": 4,
                    "metadata": {},
                    "output_type": "execute_result"
                }
            ],
            "source": "df.loc[df['PostalCode'] == 'M5A']\nlength = len(df['PostalCode'].unique())\nprint(length)\ndf.shape"
        },
        {
            "cell_type": "markdown",
            "metadata": {},
            "source": "## part two"
        },
        {
            "cell_type": "code",
            "execution_count": 6,
            "metadata": {},
            "outputs": [],
            "source": "url = 'http://cocl.us/Geospatial_data'\ndfgeo = pd.read_csv(url)\ndfgeo.rename(columns={'Postal Code': 'PostalCode'}, inplace=True)"
        },
        {
            "cell_type": "code",
            "execution_count": 7,
            "metadata": {},
            "outputs": [],
            "source": "df2 = pd.merge(df, dfgeo, on=\"PostalCode\", how='left')"
        },
        {
            "cell_type": "code",
            "execution_count": 9,
            "metadata": {},
            "outputs": [
                {
                    "data": {
                        "text/html": "<div>\n<style scoped>\n    .dataframe tbody tr th:only-of-type {\n        vertical-align: middle;\n    }\n\n    .dataframe tbody tr th {\n        vertical-align: top;\n    }\n\n    .dataframe thead th {\n        text-align: right;\n    }\n</style>\n<table border=\"1\" class=\"dataframe\">\n  <thead>\n    <tr style=\"text-align: right;\">\n      <th></th>\n      <th>PostalCode</th>\n      <th>Borough</th>\n      <th>Neighborhood</th>\n      <th>Latitude</th>\n      <th>Longitude</th>\n    </tr>\n  </thead>\n  <tbody>\n    <tr>\n      <th>57</th>\n      <td>M5G</td>\n      <td>Downtown Toronto</td>\n      <td>Central Bay Street</td>\n      <td>43.657952</td>\n      <td>-79.387383</td>\n    </tr>\n  </tbody>\n</table>\n</div>",
                        "text/plain": "   PostalCode           Borough        Neighborhood   Latitude  Longitude\n57        M5G  Downtown Toronto  Central Bay Street  43.657952 -79.387383"
                    },
                    "execution_count": 9,
                    "metadata": {},
                    "output_type": "execute_result"
                }
            ],
            "source": "df2.loc[df2['PostalCode'] == 'M5G']"
        },
        {
            "cell_type": "code",
            "execution_count": 10,
            "metadata": {},
            "outputs": [
                {
                    "data": {
                        "text/html": "<div>\n<style scoped>\n    .dataframe tbody tr th:only-of-type {\n        vertical-align: middle;\n    }\n\n    .dataframe tbody tr th {\n        vertical-align: top;\n    }\n\n    .dataframe thead th {\n        text-align: right;\n    }\n</style>\n<table border=\"1\" class=\"dataframe\">\n  <thead>\n    <tr style=\"text-align: right;\">\n      <th></th>\n      <th>PostalCode</th>\n      <th>Borough</th>\n      <th>Neighborhood</th>\n      <th>Latitude</th>\n      <th>Longitude</th>\n    </tr>\n  </thead>\n  <tbody>\n    <tr>\n      <th>101</th>\n      <td>M9V</td>\n      <td>Etobicoke</td>\n      <td>South Steeles, Silverstone, Humbergate, Jamest...</td>\n      <td>43.739416</td>\n      <td>-79.588437</td>\n    </tr>\n  </tbody>\n</table>\n</div>",
                        "text/plain": "    PostalCode    Borough                                       Neighborhood  \\\n101        M9V  Etobicoke  South Steeles, Silverstone, Humbergate, Jamest...   \n\n      Latitude  Longitude  \n101  43.739416 -79.588437  "
                    },
                    "execution_count": 10,
                    "metadata": {},
                    "output_type": "execute_result"
                }
            ],
            "source": "df2.loc[df2['PostalCode'] == 'M9V']"
        },
        {
            "cell_type": "code",
            "execution_count": 13,
            "metadata": {},
            "outputs": [
                {
                    "data": {
                        "text/html": "<div>\n<style scoped>\n    .dataframe tbody tr th:only-of-type {\n        vertical-align: middle;\n    }\n\n    .dataframe tbody tr th {\n        vertical-align: top;\n    }\n\n    .dataframe thead th {\n        text-align: right;\n    }\n</style>\n<table border=\"1\" class=\"dataframe\">\n  <thead>\n    <tr style=\"text-align: right;\">\n      <th></th>\n      <th>PostalCode</th>\n      <th>Borough</th>\n      <th>Neighborhood</th>\n      <th>Latitude</th>\n      <th>Longitude</th>\n    </tr>\n  </thead>\n  <tbody>\n    <tr>\n      <th>0</th>\n      <td>M1B</td>\n      <td>Scarborough</td>\n      <td>Malvern, Rouge</td>\n      <td>43.806686</td>\n      <td>-79.194353</td>\n    </tr>\n    <tr>\n      <th>1</th>\n      <td>M1C</td>\n      <td>Scarborough</td>\n      <td>Rouge Hill, Port Union, Highland Creek</td>\n      <td>43.784535</td>\n      <td>-79.160497</td>\n    </tr>\n    <tr>\n      <th>2</th>\n      <td>M1E</td>\n      <td>Scarborough</td>\n      <td>Guildwood, Morningside, West Hill</td>\n      <td>43.763573</td>\n      <td>-79.188711</td>\n    </tr>\n    <tr>\n      <th>3</th>\n      <td>M1G</td>\n      <td>Scarborough</td>\n      <td>Woburn</td>\n      <td>43.770992</td>\n      <td>-79.216917</td>\n    </tr>\n    <tr>\n      <th>4</th>\n      <td>M1H</td>\n      <td>Scarborough</td>\n      <td>Cedarbrae</td>\n      <td>43.773136</td>\n      <td>-79.239476</td>\n    </tr>\n    <tr>\n      <th>5</th>\n      <td>M1J</td>\n      <td>Scarborough</td>\n      <td>Scarborough Village</td>\n      <td>43.744734</td>\n      <td>-79.239476</td>\n    </tr>\n    <tr>\n      <th>6</th>\n      <td>M1K</td>\n      <td>Scarborough</td>\n      <td>Kennedy Park, Ionview, East Birchmount Park</td>\n      <td>43.727929</td>\n      <td>-79.262029</td>\n    </tr>\n    <tr>\n      <th>7</th>\n      <td>M1L</td>\n      <td>Scarborough</td>\n      <td>Golden Mile, Clairlea, Oakridge</td>\n      <td>43.711112</td>\n      <td>-79.284577</td>\n    </tr>\n    <tr>\n      <th>8</th>\n      <td>M1M</td>\n      <td>Scarborough</td>\n      <td>Cliffside, Cliffcrest, Scarborough Village West</td>\n      <td>43.716316</td>\n      <td>-79.239476</td>\n    </tr>\n    <tr>\n      <th>9</th>\n      <td>M1N</td>\n      <td>Scarborough</td>\n      <td>Birch Cliff, Cliffside West</td>\n      <td>43.692657</td>\n      <td>-79.264848</td>\n    </tr>\n  </tbody>\n</table>\n</div>",
                        "text/plain": "  PostalCode      Borough                                     Neighborhood  \\\n0        M1B  Scarborough                                   Malvern, Rouge   \n1        M1C  Scarborough           Rouge Hill, Port Union, Highland Creek   \n2        M1E  Scarborough                Guildwood, Morningside, West Hill   \n3        M1G  Scarborough                                           Woburn   \n4        M1H  Scarborough                                        Cedarbrae   \n5        M1J  Scarborough                              Scarborough Village   \n6        M1K  Scarborough      Kennedy Park, Ionview, East Birchmount Park   \n7        M1L  Scarborough                  Golden Mile, Clairlea, Oakridge   \n8        M1M  Scarborough  Cliffside, Cliffcrest, Scarborough Village West   \n9        M1N  Scarborough                      Birch Cliff, Cliffside West   \n\n    Latitude  Longitude  \n0  43.806686 -79.194353  \n1  43.784535 -79.160497  \n2  43.763573 -79.188711  \n3  43.770992 -79.216917  \n4  43.773136 -79.239476  \n5  43.744734 -79.239476  \n6  43.727929 -79.262029  \n7  43.711112 -79.284577  \n8  43.716316 -79.239476  \n9  43.692657 -79.264848  "
                    },
                    "execution_count": 13,
                    "metadata": {},
                    "output_type": "execute_result"
                }
            ],
            "source": "df2.head(10)"
        },
        {
            "cell_type": "code",
            "execution_count": 14,
            "metadata": {},
            "outputs": [
                {
                    "data": {
                        "text/plain": "(103, 5)"
                    },
                    "execution_count": 14,
                    "metadata": {},
                    "output_type": "execute_result"
                }
            ],
            "source": "df2.shape"
        },
        {
            "cell_type": "code",
            "execution_count": null,
            "metadata": {},
            "outputs": [],
            "source": ""
        }
    ],
    "metadata": {
        "kernelspec": {
            "display_name": "Python 3.6",
            "language": "python",
            "name": "python3"
        },
        "language_info": {
            "codemirror_mode": {
                "name": "ipython",
                "version": 3
            },
            "file_extension": ".py",
            "mimetype": "text/x-python",
            "name": "python",
            "nbconvert_exporter": "python",
            "pygments_lexer": "ipython3",
            "version": "3.6.9"
        }
    },
    "nbformat": 4,
    "nbformat_minor": 1
}